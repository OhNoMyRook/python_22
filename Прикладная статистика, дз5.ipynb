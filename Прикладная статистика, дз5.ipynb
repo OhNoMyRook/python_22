{
  "cells": [
    {
      "cell_type": "markdown",
      "metadata": {
        "id": "0heumA8kzQk3"
      },
      "source": [
        "# <a href=\"https://miptstats.github.io/courses/ad_mipt.html\">Phystech@DataScience</a>\n",
        "## Домашнее задание 5\n",
        "\n",
        "**Правила, <font color=\"red\">прочитайте внимательно</font>:**\n",
        "\n",
        "* Выполненную работу нужно отправить телеграм-боту `@miptstats_pds_bot`. Для начала работы с ботом каждый раз отправляйте `/start`. **Работы, присланные иным способом, не принимаются.**\n",
        "* Дедлайн см. в боте. После дедлайна работы не принимаются кроме случаев наличия уважительной причины.\n",
        "* Прислать нужно ноутбук в формате `ipynb`.\n",
        "* Выполнять задание необходимо полностью самостоятельно. **При обнаружении списывания все участники списывания будут сдавать устный зачет.**\n",
        "* Решения, размещенные на каких-либо интернет-ресурсах, не принимаются. Кроме того, публикация решения в открытом доступе может быть приравнена к предоставлении возможности списать.\n",
        "* Для выполнения задания используйте этот ноутбук в качестве основы, ничего не удаляя из него. Можно добавлять необходимое количество ячеек.\n",
        "* Комментарии к решению пишите в markdown-ячейках.\n",
        "* Выполнение задания (ход решения, выводы и пр.) должно быть осуществлено на русском языке.\n",
        "* Если код будет не понятен проверяющему, оценка может быть снижена.\n",
        "* Никакой код из данного задания при проверке запускаться не будет. *Если код студента не выполнен, недописан и т.д., то он не оценивается.*\n",
        "* **Код из рассказанных на занятиях ноутбуков можно использовать без ограничений.**\n",
        "\n",
        "**Правила оформления теоретических задач:**\n",
        "\n",
        "* Решения необходимо прислать одним из следующих способов:\n",
        "  * фотографией в правильной ориентации, где все четко видно, а почерк разборчив,\n",
        "    * отправив ее как файл боту вместе с ноутбуком *или*\n",
        "    * вставив ее в ноутбук посредством `Edit -> Insert Image` (<font color=\"red\">фото, вставленные ссылкой, не принимаются</font>);\n",
        "  * в виде $\\LaTeX$ в markdown-ячейках.\n",
        "* Решения не проверяются, если какое-то требование не выполнено. Особенно внимательно все проверьте в случае выбора второго пункта (вставки фото в ноутбук). <font color=\"red\"><b>Неправильно вставленные фотографии могут не передаться при отправке.</b></font> Для проверки попробуйте переместить `ipynb` в другую папку и открыть его там.\n",
        "* В решениях поясняйте, чем вы пользуетесь, хотя бы кратко. Например, если пользуетесь независимостью, то достаточно подписи вида \"*X и Y незав.*\"\n",
        "* Решение, в котором есть только ответ, и отсутствуют вычисления, оценивается в 0 баллов.\n",
        "\n",
        "**Баллы за задание:**\n",
        "\n",
        "<b><font color=\"blue\">Легкая часть</font></b> (достаточно на \"хор\"):\n",
        "* Задача 1 &mdash;  60 баллов\n",
        "* Задача 2 &mdash;  60 баллов\n",
        "\n",
        "<b><font color=\"orange\">Сложная часть</font></b> (необходимо на \"отл\"):\n",
        "* Задача 3 &mdash;  30 баллов\n",
        "* Задача 4 &mdash;  30 баллов\n",
        "\n",
        "\n",
        "\n",
        "\n",
        "\n",
        "\n",
        "\n",
        "-----"
      ]
    },
    {
      "cell_type": "code",
      "execution_count": 22,
      "metadata": {
        "id": "eNC_WGS1zIKT"
      },
      "outputs": [],
      "source": [
        "# Bot check\n",
        "\n",
        "# HW_ID: phds_hw5\n",
        "# Бот проверит этот ID и предупредит, если случайно сдать что-то не то.\n",
        "\n",
        "# Status: final\n",
        "# Перед отправкой в финальном решении удали \"not\" в строчке выше.\n",
        "# Так бот проверит, что ты отправляешь финальную версию, а не промежуточную.\n",
        "# Никакие значения в этой ячейке не влияют на факт сдачи работы."
      ]
    },
    {
      "cell_type": "code",
      "execution_count": 3,
      "metadata": {},
      "outputs": [
        {
          "name": "stdout",
          "output_type": "stream",
          "text": [
            "Collecting torch\n",
            "  Using cached torch-2.2.1-cp310-cp310-win_amd64.whl (198.6 MB)\n",
            "Collecting networkx\n",
            "  Using cached networkx-3.2.1-py3-none-any.whl (1.6 MB)\n",
            "Collecting sympy\n",
            "  Using cached sympy-1.12-py3-none-any.whl (5.7 MB)\n",
            "Collecting fsspec\n",
            "  Using cached fsspec-2024.2.0-py3-none-any.whl (170 kB)\n",
            "Collecting typing-extensions>=4.8.0\n",
            "  Using cached typing_extensions-4.10.0-py3-none-any.whl (33 kB)\n",
            "Collecting filelock\n",
            "  Using cached filelock-3.13.1-py3-none-any.whl (11 kB)\n",
            "Requirement already satisfied: jinja2 in c:\\users\\матвей\\appdata\\local\\packages\\pythonsoftwarefoundation.python.3.10_qbz5n2kfra8p0\\localcache\\local-packages\\python310\\site-packages (from torch) (3.1.2)\n",
            "Requirement already satisfied: MarkupSafe>=2.0 in c:\\users\\матвей\\appdata\\local\\packages\\pythonsoftwarefoundation.python.3.10_qbz5n2kfra8p0\\localcache\\local-packages\\python310\\site-packages (from jinja2->torch) (2.1.1)\n",
            "Collecting mpmath>=0.19\n",
            "  Using cached mpmath-1.3.0-py3-none-any.whl (536 kB)\n",
            "Installing collected packages: mpmath, typing-extensions, sympy, networkx, fsspec, filelock, torch\n",
            "Successfully installed filelock-3.13.1 fsspec-2024.2.0 mpmath-1.3.0 networkx-3.2.1 sympy-1.12 torch-2.2.1 typing-extensions-4.10.0\n",
            "Note: you may need to restart the kernel to use updated packages.\n"
          ]
        },
        {
          "name": "stderr",
          "output_type": "stream",
          "text": [
            "\n",
            "[notice] A new release of pip is available: 23.0.1 -> 24.0\n",
            "[notice] To update, run: C:\\Users\\Матвей\\AppData\\Local\\Microsoft\\WindowsApps\\PythonSoftwareFoundation.Python.3.10_qbz5n2kfra8p0\\python.exe -m pip install --upgrade pip\n"
          ]
        }
      ],
      "source": [
        "pip install torch "
      ]
    },
    {
      "cell_type": "code",
      "execution_count": 1,
      "metadata": {
        "id": "Ny8CbNN5zEkR"
      },
      "outputs": [],
      "source": [
        "import numpy as np\n",
        "import pandas as pd\n",
        "import seaborn as sns\n",
        "import torch\n",
        "from torch import nn, optim\n",
        "import matplotlib.pyplot as plt\n",
        "\n",
        "from IPython.display import clear_output\n",
        "\n",
        "from sklearn.metrics import mean_absolute_percentage_error, r2_score, mean_squared_error\n",
        "from sklearn.linear_model import LinearRegression, Ridge, Lasso, ElasticNet\n",
        "from sklearn.preprocessing import LabelBinarizer, StandardScaler\n",
        "from sklearn.model_selection import train_test_split\n",
        "\n",
        "import warnings\n",
        "warnings.filterwarnings('ignore')"
      ]
    },
    {
      "cell_type": "markdown",
      "metadata": {
        "id": "usIK4Lrd021K"
      },
      "source": [
        "---\n",
        "## <b><font color=\"blue\">Легкая часть</font></b>\n",
        "### Задача 1"
      ]
    },
    {
      "cell_type": "markdown",
      "metadata": {
        "id": "4ZfWEaJu02wz"
      },
      "source": [
        "#### *Профиль биология*\n",
        "\n",
        "Мы будем исследовать датасет по экспрессиям различных генов (RNA-seq), используемых для предсказания возраста пациентов."
      ]
    },
    {
      "cell_type": "code",
      "execution_count": null,
      "metadata": {
        "colab": {
          "base_uri": "https://localhost:8080/",
          "height": 273
        },
        "id": "inV4Tx-zG2pp",
        "outputId": "9570e905-0457-4994-e8ee-c29b9600653d"
      },
      "outputs": [],
      "source": [
        "df = pd.read_csv(\"Rnaseq_age_reg.csv\")\n",
        "df.head()"
      ]
    },
    {
      "cell_type": "markdown",
      "metadata": {
        "id": "HJboUl86B9IU"
      },
      "source": [
        "Разбейте датасет на признаки и таргет, где в качестве таргета будет использоваться столбец `Age`, а признаки - все остальные. В том числе разбейте на подвыборки для обучения и теста."
      ]
    },
    {
      "cell_type": "code",
      "execution_count": null,
      "metadata": {
        "colab": {
          "base_uri": "https://localhost:8080/"
        },
        "id": "_DhNs7STG2lg",
        "outputId": "6ec2d089-9623-4604-8b45-6c75c1b8c36a"
      },
      "outputs": [],
      "source": []
    },
    {
      "cell_type": "markdown",
      "metadata": {},
      "source": [
        "**Переходите к общей части.**"
      ]
    },
    {
      "cell_type": "markdown",
      "metadata": {},
      "source": [
        "#### *Профиль физика*"
      ]
    },
    {
      "cell_type": "code",
      "execution_count": 62,
      "metadata": {},
      "outputs": [
        {
          "data": {
            "text/html": [
              "<div>\n",
              "<style scoped>\n",
              "    .dataframe tbody tr th:only-of-type {\n",
              "        vertical-align: middle;\n",
              "    }\n",
              "\n",
              "    .dataframe tbody tr th {\n",
              "        vertical-align: top;\n",
              "    }\n",
              "\n",
              "    .dataframe thead th {\n",
              "        text-align: right;\n",
              "    }\n",
              "</style>\n",
              "<table border=\"1\" class=\"dataframe\">\n",
              "  <thead>\n",
              "    <tr style=\"text-align: right;\">\n",
              "      <th></th>\n",
              "      <th>0</th>\n",
              "      <th>1</th>\n",
              "      <th>2</th>\n",
              "      <th>3</th>\n",
              "      <th>4</th>\n",
              "      <th>5</th>\n",
              "      <th>6</th>\n",
              "      <th>7</th>\n",
              "      <th>8</th>\n",
              "      <th>9</th>\n",
              "      <th>...</th>\n",
              "      <th>292</th>\n",
              "      <th>293</th>\n",
              "      <th>294</th>\n",
              "      <th>295</th>\n",
              "      <th>296</th>\n",
              "      <th>297</th>\n",
              "      <th>298</th>\n",
              "      <th>299</th>\n",
              "      <th>pubchem_id</th>\n",
              "      <th>Eat</th>\n",
              "    </tr>\n",
              "  </thead>\n",
              "  <tbody>\n",
              "    <tr>\n",
              "      <th>0</th>\n",
              "      <td>-54.825075</td>\n",
              "      <td>-0.835719</td>\n",
              "      <td>45.240515</td>\n",
              "      <td>-22.585658</td>\n",
              "      <td>1.450320</td>\n",
              "      <td>-16.223986</td>\n",
              "      <td>12.376342</td>\n",
              "      <td>13.424011</td>\n",
              "      <td>-4.923189</td>\n",
              "      <td>-2.653680</td>\n",
              "      <td>...</td>\n",
              "      <td>-0.023466</td>\n",
              "      <td>-0.066633</td>\n",
              "      <td>0.030779</td>\n",
              "      <td>-0.036064</td>\n",
              "      <td>-0.008572</td>\n",
              "      <td>0.011805</td>\n",
              "      <td>-0.036215</td>\n",
              "      <td>0.052180</td>\n",
              "      <td>25004</td>\n",
              "      <td>-19.013763</td>\n",
              "    </tr>\n",
              "    <tr>\n",
              "      <th>1</th>\n",
              "      <td>-34.039832</td>\n",
              "      <td>24.930703</td>\n",
              "      <td>-7.485562</td>\n",
              "      <td>40.737762</td>\n",
              "      <td>21.400170</td>\n",
              "      <td>15.280596</td>\n",
              "      <td>4.467203</td>\n",
              "      <td>-19.296032</td>\n",
              "      <td>-0.433598</td>\n",
              "      <td>18.387221</td>\n",
              "      <td>...</td>\n",
              "      <td>-0.000419</td>\n",
              "      <td>0.003369</td>\n",
              "      <td>-0.000641</td>\n",
              "      <td>-0.001035</td>\n",
              "      <td>0.012597</td>\n",
              "      <td>0.004377</td>\n",
              "      <td>0.004023</td>\n",
              "      <td>0.003356</td>\n",
              "      <td>25005</td>\n",
              "      <td>-10.161019</td>\n",
              "    </tr>\n",
              "    <tr>\n",
              "      <th>2</th>\n",
              "      <td>-58.794258</td>\n",
              "      <td>-49.823448</td>\n",
              "      <td>-35.062080</td>\n",
              "      <td>1.698937</td>\n",
              "      <td>-18.012227</td>\n",
              "      <td>12.523468</td>\n",
              "      <td>9.210336</td>\n",
              "      <td>7.488163</td>\n",
              "      <td>11.392693</td>\n",
              "      <td>-0.927953</td>\n",
              "      <td>...</td>\n",
              "      <td>-0.003377</td>\n",
              "      <td>-0.003500</td>\n",
              "      <td>0.002734</td>\n",
              "      <td>-0.001017</td>\n",
              "      <td>0.004774</td>\n",
              "      <td>0.012796</td>\n",
              "      <td>0.022270</td>\n",
              "      <td>0.008051</td>\n",
              "      <td>25006</td>\n",
              "      <td>-9.376619</td>\n",
              "    </tr>\n",
              "    <tr>\n",
              "      <th>3</th>\n",
              "      <td>-38.508716</td>\n",
              "      <td>19.211767</td>\n",
              "      <td>-4.858507</td>\n",
              "      <td>10.484105</td>\n",
              "      <td>16.622411</td>\n",
              "      <td>-22.131178</td>\n",
              "      <td>-14.876963</td>\n",
              "      <td>-5.516521</td>\n",
              "      <td>13.793978</td>\n",
              "      <td>3.657935</td>\n",
              "      <td>...</td>\n",
              "      <td>-0.001423</td>\n",
              "      <td>-0.000576</td>\n",
              "      <td>0.011144</td>\n",
              "      <td>-0.007253</td>\n",
              "      <td>-0.006700</td>\n",
              "      <td>-0.007940</td>\n",
              "      <td>0.022492</td>\n",
              "      <td>-0.007016</td>\n",
              "      <td>25009</td>\n",
              "      <td>-13.776438</td>\n",
              "    </tr>\n",
              "    <tr>\n",
              "      <th>4</th>\n",
              "      <td>-45.432604</td>\n",
              "      <td>-23.951574</td>\n",
              "      <td>-55.340413</td>\n",
              "      <td>-7.879883</td>\n",
              "      <td>-16.304009</td>\n",
              "      <td>13.340896</td>\n",
              "      <td>11.326496</td>\n",
              "      <td>6.784151</td>\n",
              "      <td>11.208725</td>\n",
              "      <td>-0.181278</td>\n",
              "      <td>...</td>\n",
              "      <td>0.008307</td>\n",
              "      <td>-0.003005</td>\n",
              "      <td>0.000816</td>\n",
              "      <td>-0.000938</td>\n",
              "      <td>0.001135</td>\n",
              "      <td>-0.005256</td>\n",
              "      <td>0.001042</td>\n",
              "      <td>0.002651</td>\n",
              "      <td>25011</td>\n",
              "      <td>-8.537140</td>\n",
              "    </tr>\n",
              "  </tbody>\n",
              "</table>\n",
              "<p>5 rows × 302 columns</p>\n",
              "</div>"
            ],
            "text/plain": [
              "           0          1          2          3          4          5  \\\n",
              "0 -54.825075  -0.835719  45.240515 -22.585658   1.450320 -16.223986   \n",
              "1 -34.039832  24.930703  -7.485562  40.737762  21.400170  15.280596   \n",
              "2 -58.794258 -49.823448 -35.062080   1.698937 -18.012227  12.523468   \n",
              "3 -38.508716  19.211767  -4.858507  10.484105  16.622411 -22.131178   \n",
              "4 -45.432604 -23.951574 -55.340413  -7.879883 -16.304009  13.340896   \n",
              "\n",
              "           6          7          8          9  ...       292       293  \\\n",
              "0  12.376342  13.424011  -4.923189  -2.653680  ... -0.023466 -0.066633   \n",
              "1   4.467203 -19.296032  -0.433598  18.387221  ... -0.000419  0.003369   \n",
              "2   9.210336   7.488163  11.392693  -0.927953  ... -0.003377 -0.003500   \n",
              "3 -14.876963  -5.516521  13.793978   3.657935  ... -0.001423 -0.000576   \n",
              "4  11.326496   6.784151  11.208725  -0.181278  ...  0.008307 -0.003005   \n",
              "\n",
              "        294       295       296       297       298       299  pubchem_id  \\\n",
              "0  0.030779 -0.036064 -0.008572  0.011805 -0.036215  0.052180       25004   \n",
              "1 -0.000641 -0.001035  0.012597  0.004377  0.004023  0.003356       25005   \n",
              "2  0.002734 -0.001017  0.004774  0.012796  0.022270  0.008051       25006   \n",
              "3  0.011144 -0.007253 -0.006700 -0.007940  0.022492 -0.007016       25009   \n",
              "4  0.000816 -0.000938  0.001135 -0.005256  0.001042  0.002651       25011   \n",
              "\n",
              "         Eat  \n",
              "0 -19.013763  \n",
              "1 -10.161019  \n",
              "2  -9.376619  \n",
              "3 -13.776438  \n",
              "4  -8.537140  \n",
              "\n",
              "[5 rows x 302 columns]"
            ]
          },
          "execution_count": 62,
          "metadata": {},
          "output_type": "execute_result"
        }
      ],
      "source": [
        "df = pd.read_csv(\"physics_data.csv\", index_col=0)\n",
        "df.head()"
      ]
    },
    {
      "cell_type": "markdown",
      "metadata": {},
      "source": [
        "Разбейте датасет на признаки и таргет, где в качестве таргета будет использоваться столбец Eat, а признаки - все остальные. В том числе разбейте на подвыборки для обучения и теста."
      ]
    },
    {
      "cell_type": "code",
      "execution_count": 63,
      "metadata": {},
      "outputs": [],
      "source": [
        "X = df.drop('Eat', axis=1)\n",
        "y = df['Eat']\n",
        "X_train, X_test = train_test_split(X, test_size = 0.3, random_state=69) \n",
        "y_train, y_test = train_test_split(y, test_size = 0.3, random_state=69)\n"
      ]
    },
    {
      "cell_type": "markdown",
      "metadata": {
        "id": "C2tp1fIoHUoi"
      },
      "source": [
        "### Общая часть\n",
        "\n",
        "Отмасштабируйте данные:"
      ]
    },
    {
      "cell_type": "code",
      "execution_count": 64,
      "metadata": {},
      "outputs": [],
      "source": [
        "scaler = StandardScaler()\n",
        "X_train = scaler.fit_transform(X_train)\n",
        "X_test = scaler.transform(X_test)"
      ]
    },
    {
      "cell_type": "markdown",
      "metadata": {
        "id": "LPBCrYQECQ0t"
      },
      "source": [
        "Обучите модель линейной регрессии и посмотрите на значения метрик на тесте. Что вы можете сказать про результат обучения?"
      ]
    },
    {
      "cell_type": "code",
      "execution_count": 65,
      "metadata": {
        "colab": {
          "base_uri": "https://localhost:8080/"
        },
        "id": "0eRQz-AzG2hS",
        "outputId": "9cc62d52-da7e-4e1a-efc6-1e1ad8d7bbfc"
      },
      "outputs": [
        {
          "name": "stdout",
          "output_type": "stream",
          "text": [
            "0.2407779155667411\n",
            "-8.321343003820829\n"
          ]
        }
      ],
      "source": [
        "model = LinearRegression(fit_intercept=True)\n",
        "model.fit(X_train, y_train)\n",
        "y_pred = model.predict(X_test)\n",
        "print(mean_absolute_percentage_error(y_test, y_pred))\n",
        "print(r2_score(y_test, y_pred))\n",
        "\n",
        "\n"
      ]
    },
    {
      "cell_type": "markdown",
      "metadata": {},
      "source": [
        "Модель плоха, поскольку предсказывает хуже, чем в среднем (по коэффициенту R2)"
      ]
    },
    {
      "cell_type": "markdown",
      "metadata": {
        "id": "tAEwwjTCCsML"
      },
      "source": [
        "Обучите линейные модели с регуляризациями, которые мы проходили ранее. Для каждой из моделей постройте графики зависимости метрик r2 и MAPE от коэфициента регуляризации. Можно пользоваться кодом из домашнего задания по регуляризации. Сильно ли улучшился результат? "
      ]
    },
    {
      "cell_type": "code",
      "execution_count": 66,
      "metadata": {},
      "outputs": [
        {
          "data": {
            "image/png": "[encoded data removed]",
            "text/plain": [
              "<Figure size 1000x500 with 1 Axes>"
            ]
          },
          "metadata": {},
          "output_type": "display_data"
        },
        {
          "data": {
            "image/png": "[encoded data removed]",
            "text/plain": [
              "<Figure size 1000x500 with 1 Axes>"
            ]
          },
          "metadata": {},
          "output_type": "display_data"
        },
        {
          "data": {
            "image/png": "[encoded data removed]",
            "text/plain": [
              "<Figure size 1000x500 with 1 Axes>"
            ]
          },
          "metadata": {},
          "output_type": "display_data"
        },
        {
          "data": {
            "image/png": "[encoded data removed]",
            "text/plain": [
              "<Figure size 1000x500 with 1 Axes>"
            ]
          },
          "metadata": {},
          "output_type": "display_data"
        },
        {
          "data": {
            "image/png": "[encoded data removed]",
            "text/plain": [
              "<Figure size 1000x500 with 1 Axes>"
            ]
          },
          "metadata": {},
          "output_type": "display_data"
        },
        {
          "data": {
            "image/png": "[encoded data removed]",
            "text/plain": [
              "<Figure size 1000x500 with 1 Axes>"
            ]
          },
          "metadata": {},
          "output_type": "display_data"
        }
      ],
      "source": [
        "def calculate_mape_error(model, X, y, log_min, log_max, \n",
        "               num):\n",
        "   \n",
        "    alphas = np.logspace(log_min, log_max, num) # сетка параметров   \n",
        "    errors = [] # ошибки\n",
        "    for a in alphas:\n",
        "        X_train, X_test, y_train, y_test = train_test_split(X, y, test_size=0.3, random_state=69)\n",
        "        scaler = StandardScaler()\n",
        "        X_train = scaler.fit_transform(X_train)\n",
        "        X_test = scaler.transform(X_test)\n",
        "        if 'l1_ratio' in model.get_params(): # для ElasticNet\n",
        "            # равномерно распределим alpha по обоим коэффициентам\n",
        "            a *= 3/2\n",
        "            model.set_params(alpha=a) # переопределяем параметры модели\n",
        "        else:\n",
        "            model.set_params(alpha=a)\n",
        "        model.fit(X_train, y_train)\n",
        "        y_pred = model.predict(X_test)\n",
        "        errors.append(mean_absolute_percentage_error(y_test, y_pred)) \n",
        "    return errors\n",
        "\n",
        "\n",
        "def calculate_r2(model, X, y, log_min, log_max, \n",
        "               num):\n",
        "   \n",
        "    alphas = np.logspace(log_min, log_max, num) # сетка параметров   \n",
        "    errors = [] # ошибки\n",
        "    for a in alphas:\n",
        "        X_train, X_test, y_train, y_test = train_test_split(X, y, test_size=0.3, random_state=69)\n",
        "        scaler = StandardScaler()\n",
        "        X_train = scaler.fit_transform(X_train)\n",
        "        X_test = scaler.transform(X_test)\n",
        "        if 'l1_ratio' in model.get_params(): # для ElasticNet\n",
        "            # равномерно распределим alpha по обоим коэффициентам\n",
        "            a *= 3/2\n",
        "            model.set_params(alpha=a) # переопределяем параметры модели\n",
        "        else:\n",
        "            model.set_params(alpha=a)\n",
        "        model.fit(X_train, y_train)\n",
        "        y_pred = model.predict(X_test)\n",
        "        errors.append(r2_score(y_test, y_pred)) \n",
        "    return errors\n",
        "\n",
        "\n",
        "def draw_track(errors, log_min, log_max, \n",
        "               num, title='', figsize=(10, 5)):\n",
        "    \n",
        "    alphas = np.logspace(log_min, log_max, num) # сетка параметров  \n",
        "    plt.figure(figsize=figsize)\n",
        "    ax = plt.gca() # используется для получения текущего экземпляра axes\n",
        "    ax.hlines(0, 10 ** log_min, 10 ** log_max, linewidth=15, alpha=0.15)\n",
        "    \n",
        "    \n",
        "    ax.plot(alphas, errors, linewidth=2, label=title) # рисуем коэффициенты в зависимости от alpha\n",
        "        \n",
        "    ax.set_xscale('log') # логарифмическая шкала\n",
        "    ax.set_xlim(ax.get_xlim()[::-1])  # обратить ось\n",
        "    plt.xlabel('Параметр регуляризации', fontsize=19)\n",
        "    plt.ylabel('Значения метрик', fontsize=19)\n",
        "    plt.title(title, fontsize=22)\n",
        "    plt.legend(loc='upper left', fontsize=8)\n",
        "    plt.axis('tight')\n",
        "    plt.show()\n",
        "\n",
        "\n",
        "# Ridge регрессия\n",
        "ridge_model = Ridge(fit_intercept=True)\n",
        "mape_error_ridge = calculate_mape_error(ridge_model, X, y, -5, 5, 50)\n",
        "r2_ridge = calculate_r2(ridge_model, X, y, -5, 5, 50)\n",
        "draw_track(mape_error_ridge, -5, 5, 50, \"MAPE ridge\")\n",
        "draw_track(r2_ridge, -5, 5, 50, \"r2 ridge\")\n",
        "\n",
        "\n",
        "# Lasso регрессия\n",
        "lasso_model = Lasso(fit_intercept=True)\n",
        "mape_error_lasso = calculate_mape_error(lasso_model, X, y, -5, 5, 50)\n",
        "r2_lasso = calculate_r2(lasso_model, X, y, -5, 5, 50)\n",
        "draw_track(mape_error_lasso, -5, 5, 50, \"MAPE lasso\")\n",
        "draw_track(r2_lasso, -5, 5, 50, \"r2 lasso\")\n",
        "\n",
        "# Elastic регрессия\n",
        "elastic_model = ElasticNet(l1_ratio=0.7, fit_intercept=True)\n",
        "mape_error_elastic = calculate_mape_error(elastic_model, X, y, -5, 5, 50)\n",
        "r2_elastic = calculate_r2(elastic_model, X, y, -5, 5, 50)\n",
        "draw_track(mape_error_elastic, -5, 5, 50, \"MAPE elastic\")\n",
        "draw_track(r2_elastic, -5, 5, 50, \"r2 elastic\")\n"
      ]
    },
    {
      "cell_type": "markdown",
      "metadata": {},
      "source": [
        "Выберите оптимальный, на вашь взгляд, параметр для L1-регуляризации, обучите модель Lasso-регрессии, выведите ещё раз метрики r2 и MAPE и проведите отбор признаков: уберите из датасета все те, для которых коэффициент регуляризации оказался нулевым."
      ]
    },
    {
      "cell_type": "code",
      "execution_count": 67,
      "metadata": {},
      "outputs": [
        {
          "name": "stdout",
          "output_type": "stream",
          "text": [
            "MAPE = 0.05980160414539033\n",
            "R2 = 0.9367197202127888\n"
          ]
        }
      ],
      "source": [
        "model = Lasso(alpha=0.03, fit_intercept=True)\n",
        "model.fit(X_train, y_train)\n",
        "y_pred = model.predict(X_test)\n",
        "print(\"MAPE =\", mean_absolute_percentage_error(y_test, y_pred))\n",
        "print(\"R2 =\", r2_score(y_test, y_pred))"
      ]
    },
    {
      "cell_type": "code",
      "execution_count": 68,
      "metadata": {},
      "outputs": [
        {
          "data": {
            "text/html": [
              "<div>\n",
              "<style scoped>\n",
              "    .dataframe tbody tr th:only-of-type {\n",
              "        vertical-align: middle;\n",
              "    }\n",
              "\n",
              "    .dataframe tbody tr th {\n",
              "        vertical-align: top;\n",
              "    }\n",
              "\n",
              "    .dataframe thead th {\n",
              "        text-align: right;\n",
              "    }\n",
              "</style>\n",
              "<table border=\"1\" class=\"dataframe\">\n",
              "  <thead>\n",
              "    <tr style=\"text-align: right;\">\n",
              "      <th></th>\n",
              "      <th>0</th>\n",
              "      <th>1</th>\n",
              "      <th>2</th>\n",
              "      <th>3</th>\n",
              "      <th>4</th>\n",
              "      <th>5</th>\n",
              "      <th>6</th>\n",
              "      <th>9</th>\n",
              "      <th>10</th>\n",
              "      <th>11</th>\n",
              "      <th>...</th>\n",
              "      <th>255</th>\n",
              "      <th>259</th>\n",
              "      <th>267</th>\n",
              "      <th>268</th>\n",
              "      <th>272</th>\n",
              "      <th>274</th>\n",
              "      <th>276</th>\n",
              "      <th>283</th>\n",
              "      <th>288</th>\n",
              "      <th>292</th>\n",
              "    </tr>\n",
              "  </thead>\n",
              "  <tbody>\n",
              "    <tr>\n",
              "      <th>0</th>\n",
              "      <td>-54.825075</td>\n",
              "      <td>-0.835719</td>\n",
              "      <td>45.240515</td>\n",
              "      <td>-22.585658</td>\n",
              "      <td>1.450320</td>\n",
              "      <td>-16.223986</td>\n",
              "      <td>12.376342</td>\n",
              "      <td>-2.653680</td>\n",
              "      <td>9.402571</td>\n",
              "      <td>-11.041235</td>\n",
              "      <td>...</td>\n",
              "      <td>-0.019859</td>\n",
              "      <td>0.105412</td>\n",
              "      <td>0.002530</td>\n",
              "      <td>0.013006</td>\n",
              "      <td>0.040205</td>\n",
              "      <td>-0.001856</td>\n",
              "      <td>0.013344</td>\n",
              "      <td>-0.013579</td>\n",
              "      <td>0.003842</td>\n",
              "      <td>-0.023466</td>\n",
              "    </tr>\n",
              "    <tr>\n",
              "      <th>1</th>\n",
              "      <td>-34.039832</td>\n",
              "      <td>24.930703</td>\n",
              "      <td>-7.485562</td>\n",
              "      <td>40.737762</td>\n",
              "      <td>21.400170</td>\n",
              "      <td>15.280596</td>\n",
              "      <td>4.467203</td>\n",
              "      <td>18.387221</td>\n",
              "      <td>7.955942</td>\n",
              "      <td>-2.034648</td>\n",
              "      <td>...</td>\n",
              "      <td>-0.015168</td>\n",
              "      <td>0.005677</td>\n",
              "      <td>0.004729</td>\n",
              "      <td>-0.008663</td>\n",
              "      <td>-0.007660</td>\n",
              "      <td>-0.004274</td>\n",
              "      <td>-0.006265</td>\n",
              "      <td>0.000116</td>\n",
              "      <td>0.005744</td>\n",
              "      <td>-0.000419</td>\n",
              "    </tr>\n",
              "    <tr>\n",
              "      <th>2</th>\n",
              "      <td>-58.794258</td>\n",
              "      <td>-49.823448</td>\n",
              "      <td>-35.062080</td>\n",
              "      <td>1.698937</td>\n",
              "      <td>-18.012227</td>\n",
              "      <td>12.523468</td>\n",
              "      <td>9.210336</td>\n",
              "      <td>-0.927953</td>\n",
              "      <td>-8.175810</td>\n",
              "      <td>-10.214724</td>\n",
              "      <td>...</td>\n",
              "      <td>0.004576</td>\n",
              "      <td>-0.015289</td>\n",
              "      <td>0.010845</td>\n",
              "      <td>0.000146</td>\n",
              "      <td>-0.003220</td>\n",
              "      <td>0.012142</td>\n",
              "      <td>-0.007949</td>\n",
              "      <td>0.013715</td>\n",
              "      <td>-0.019260</td>\n",
              "      <td>-0.003377</td>\n",
              "    </tr>\n",
              "    <tr>\n",
              "      <th>3</th>\n",
              "      <td>-38.508716</td>\n",
              "      <td>19.211767</td>\n",
              "      <td>-4.858507</td>\n",
              "      <td>10.484105</td>\n",
              "      <td>16.622411</td>\n",
              "      <td>-22.131178</td>\n",
              "      <td>-14.876963</td>\n",
              "      <td>3.657935</td>\n",
              "      <td>-8.984441</td>\n",
              "      <td>1.666178</td>\n",
              "      <td>...</td>\n",
              "      <td>-0.030376</td>\n",
              "      <td>-0.059684</td>\n",
              "      <td>-0.013597</td>\n",
              "      <td>-0.010948</td>\n",
              "      <td>-0.009165</td>\n",
              "      <td>0.002940</td>\n",
              "      <td>-0.012305</td>\n",
              "      <td>-0.014887</td>\n",
              "      <td>0.015263</td>\n",
              "      <td>-0.001423</td>\n",
              "    </tr>\n",
              "    <tr>\n",
              "      <th>4</th>\n",
              "      <td>-45.432604</td>\n",
              "      <td>-23.951574</td>\n",
              "      <td>-55.340413</td>\n",
              "      <td>-7.879883</td>\n",
              "      <td>-16.304009</td>\n",
              "      <td>13.340896</td>\n",
              "      <td>11.326496</td>\n",
              "      <td>-0.181278</td>\n",
              "      <td>-7.879280</td>\n",
              "      <td>-9.523932</td>\n",
              "      <td>...</td>\n",
              "      <td>0.002235</td>\n",
              "      <td>0.006225</td>\n",
              "      <td>0.005208</td>\n",
              "      <td>-0.000061</td>\n",
              "      <td>-0.009439</td>\n",
              "      <td>0.008849</td>\n",
              "      <td>0.000724</td>\n",
              "      <td>0.000220</td>\n",
              "      <td>0.001795</td>\n",
              "      <td>0.008307</td>\n",
              "    </tr>\n",
              "    <tr>\n",
              "      <th>...</th>\n",
              "      <td>...</td>\n",
              "      <td>...</td>\n",
              "      <td>...</td>\n",
              "      <td>...</td>\n",
              "      <td>...</td>\n",
              "      <td>...</td>\n",
              "      <td>...</td>\n",
              "      <td>...</td>\n",
              "      <td>...</td>\n",
              "      <td>...</td>\n",
              "      <td>...</td>\n",
              "      <td>...</td>\n",
              "      <td>...</td>\n",
              "      <td>...</td>\n",
              "      <td>...</td>\n",
              "      <td>...</td>\n",
              "      <td>...</td>\n",
              "      <td>...</td>\n",
              "      <td>...</td>\n",
              "      <td>...</td>\n",
              "      <td>...</td>\n",
              "    </tr>\n",
              "    <tr>\n",
              "      <th>495</th>\n",
              "      <td>-92.990624</td>\n",
              "      <td>-37.989869</td>\n",
              "      <td>-41.713767</td>\n",
              "      <td>2.459257</td>\n",
              "      <td>-18.563966</td>\n",
              "      <td>12.633696</td>\n",
              "      <td>10.269036</td>\n",
              "      <td>-0.500295</td>\n",
              "      <td>-7.868115</td>\n",
              "      <td>-9.848846</td>\n",
              "      <td>...</td>\n",
              "      <td>-0.002393</td>\n",
              "      <td>-0.005451</td>\n",
              "      <td>0.003347</td>\n",
              "      <td>-0.001177</td>\n",
              "      <td>-0.007184</td>\n",
              "      <td>0.027598</td>\n",
              "      <td>-0.006292</td>\n",
              "      <td>0.015753</td>\n",
              "      <td>-0.007550</td>\n",
              "      <td>-0.000781</td>\n",
              "    </tr>\n",
              "    <tr>\n",
              "      <th>496</th>\n",
              "      <td>-33.853515</td>\n",
              "      <td>35.368724</td>\n",
              "      <td>13.274417</td>\n",
              "      <td>25.765836</td>\n",
              "      <td>16.590896</td>\n",
              "      <td>-13.918333</td>\n",
              "      <td>16.788150</td>\n",
              "      <td>-12.302618</td>\n",
              "      <td>-3.861826</td>\n",
              "      <td>9.953043</td>\n",
              "      <td>...</td>\n",
              "      <td>0.017456</td>\n",
              "      <td>0.007270</td>\n",
              "      <td>0.021325</td>\n",
              "      <td>0.011040</td>\n",
              "      <td>-0.010446</td>\n",
              "      <td>-0.006913</td>\n",
              "      <td>0.013194</td>\n",
              "      <td>-0.002642</td>\n",
              "      <td>0.001853</td>\n",
              "      <td>-0.003979</td>\n",
              "    </tr>\n",
              "    <tr>\n",
              "      <th>497</th>\n",
              "      <td>-38.655242</td>\n",
              "      <td>11.967915</td>\n",
              "      <td>-12.953299</td>\n",
              "      <td>12.041033</td>\n",
              "      <td>26.324118</td>\n",
              "      <td>4.377067</td>\n",
              "      <td>-5.507208</td>\n",
              "      <td>13.578827</td>\n",
              "      <td>1.504947</td>\n",
              "      <td>-5.584341</td>\n",
              "      <td>...</td>\n",
              "      <td>-0.007609</td>\n",
              "      <td>-0.001864</td>\n",
              "      <td>0.003204</td>\n",
              "      <td>-0.014968</td>\n",
              "      <td>0.007366</td>\n",
              "      <td>0.001508</td>\n",
              "      <td>-0.014278</td>\n",
              "      <td>0.010300</td>\n",
              "      <td>-0.000752</td>\n",
              "      <td>-0.008269</td>\n",
              "    </tr>\n",
              "    <tr>\n",
              "      <th>498</th>\n",
              "      <td>-46.056230</td>\n",
              "      <td>18.084091</td>\n",
              "      <td>39.077455</td>\n",
              "      <td>-14.063225</td>\n",
              "      <td>0.243868</td>\n",
              "      <td>-21.583486</td>\n",
              "      <td>8.959267</td>\n",
              "      <td>-0.851561</td>\n",
              "      <td>8.902655</td>\n",
              "      <td>-10.039950</td>\n",
              "      <td>...</td>\n",
              "      <td>-0.003386</td>\n",
              "      <td>0.028726</td>\n",
              "      <td>-0.037418</td>\n",
              "      <td>-0.020214</td>\n",
              "      <td>-0.022984</td>\n",
              "      <td>-0.001064</td>\n",
              "      <td>0.008804</td>\n",
              "      <td>0.008787</td>\n",
              "      <td>-0.032313</td>\n",
              "      <td>0.013263</td>\n",
              "    </tr>\n",
              "    <tr>\n",
              "      <th>499</th>\n",
              "      <td>-45.643137</td>\n",
              "      <td>22.730256</td>\n",
              "      <td>47.301126</td>\n",
              "      <td>-19.027558</td>\n",
              "      <td>-11.381165</td>\n",
              "      <td>-15.344234</td>\n",
              "      <td>4.256330</td>\n",
              "      <td>9.298104</td>\n",
              "      <td>-1.299787</td>\n",
              "      <td>-4.920284</td>\n",
              "      <td>...</td>\n",
              "      <td>-0.002832</td>\n",
              "      <td>-0.031062</td>\n",
              "      <td>-0.006282</td>\n",
              "      <td>-0.040187</td>\n",
              "      <td>-0.047171</td>\n",
              "      <td>0.073395</td>\n",
              "      <td>0.032988</td>\n",
              "      <td>-0.046324</td>\n",
              "      <td>0.021578</td>\n",
              "      <td>0.010800</td>\n",
              "    </tr>\n",
              "  </tbody>\n",
              "</table>\n",
              "<p>500 rows × 110 columns</p>\n",
              "</div>"
            ],
            "text/plain": [
              "             0          1          2          3          4          5  \\\n",
              "0   -54.825075  -0.835719  45.240515 -22.585658   1.450320 -16.223986   \n",
              "1   -34.039832  24.930703  -7.485562  40.737762  21.400170  15.280596   \n",
              "2   -58.794258 -49.823448 -35.062080   1.698937 -18.012227  12.523468   \n",
              "3   -38.508716  19.211767  -4.858507  10.484105  16.622411 -22.131178   \n",
              "4   -45.432604 -23.951574 -55.340413  -7.879883 -16.304009  13.340896   \n",
              "..         ...        ...        ...        ...        ...        ...   \n",
              "495 -92.990624 -37.989869 -41.713767   2.459257 -18.563966  12.633696   \n",
              "496 -33.853515  35.368724  13.274417  25.765836  16.590896 -13.918333   \n",
              "497 -38.655242  11.967915 -12.953299  12.041033  26.324118   4.377067   \n",
              "498 -46.056230  18.084091  39.077455 -14.063225   0.243868 -21.583486   \n",
              "499 -45.643137  22.730256  47.301126 -19.027558 -11.381165 -15.344234   \n",
              "\n",
              "             6          9        10         11  ...       255       259  \\\n",
              "0    12.376342  -2.653680  9.402571 -11.041235  ... -0.019859  0.105412   \n",
              "1     4.467203  18.387221  7.955942  -2.034648  ... -0.015168  0.005677   \n",
              "2     9.210336  -0.927953 -8.175810 -10.214724  ...  0.004576 -0.015289   \n",
              "3   -14.876963   3.657935 -8.984441   1.666178  ... -0.030376 -0.059684   \n",
              "4    11.326496  -0.181278 -7.879280  -9.523932  ...  0.002235  0.006225   \n",
              "..         ...        ...       ...        ...  ...       ...       ...   \n",
              "495  10.269036  -0.500295 -7.868115  -9.848846  ... -0.002393 -0.005451   \n",
              "496  16.788150 -12.302618 -3.861826   9.953043  ...  0.017456  0.007270   \n",
              "497  -5.507208  13.578827  1.504947  -5.584341  ... -0.007609 -0.001864   \n",
              "498   8.959267  -0.851561  8.902655 -10.039950  ... -0.003386  0.028726   \n",
              "499   4.256330   9.298104 -1.299787  -4.920284  ... -0.002832 -0.031062   \n",
              "\n",
              "          267       268       272       274       276       283       288  \\\n",
              "0    0.002530  0.013006  0.040205 -0.001856  0.013344 -0.013579  0.003842   \n",
              "1    0.004729 -0.008663 -0.007660 -0.004274 -0.006265  0.000116  0.005744   \n",
              "2    0.010845  0.000146 -0.003220  0.012142 -0.007949  0.013715 -0.019260   \n",
              "3   -0.013597 -0.010948 -0.009165  0.002940 -0.012305 -0.014887  0.015263   \n",
              "4    0.005208 -0.000061 -0.009439  0.008849  0.000724  0.000220  0.001795   \n",
              "..        ...       ...       ...       ...       ...       ...       ...   \n",
              "495  0.003347 -0.001177 -0.007184  0.027598 -0.006292  0.015753 -0.007550   \n",
              "496  0.021325  0.011040 -0.010446 -0.006913  0.013194 -0.002642  0.001853   \n",
              "497  0.003204 -0.014968  0.007366  0.001508 -0.014278  0.010300 -0.000752   \n",
              "498 -0.037418 -0.020214 -0.022984 -0.001064  0.008804  0.008787 -0.032313   \n",
              "499 -0.006282 -0.040187 -0.047171  0.073395  0.032988 -0.046324  0.021578   \n",
              "\n",
              "          292  \n",
              "0   -0.023466  \n",
              "1   -0.000419  \n",
              "2   -0.003377  \n",
              "3   -0.001423  \n",
              "4    0.008307  \n",
              "..        ...  \n",
              "495 -0.000781  \n",
              "496 -0.003979  \n",
              "497 -0.008269  \n",
              "498  0.013263  \n",
              "499  0.010800  \n",
              "\n",
              "[500 rows x 110 columns]"
            ]
          },
          "execution_count": 68,
          "metadata": {},
          "output_type": "execute_result"
        }
      ],
      "source": [
        "#model.sparse_coef_.nonzero()\n",
        "df_new = df.iloc[:,model.sparse_coef_.nonzero()[1]]\n",
        "#print(df_new)\n",
        "df_new\n",
        "\n"
      ]
    },
    {
      "cell_type": "markdown",
      "metadata": {
        "id": "3gLBvPQsDI0X"
      },
      "source": [
        "Теперь обучите простейшую нейронную сеть на уменьшенном датасете, сравните результат с результатами обучения других моделей."
      ]
    },
    {
      "cell_type": "code",
      "execution_count": 548,
      "metadata": {},
      "outputs": [],
      "source": [
        "model_new = nn.Sequential(\n",
        "    nn.Linear(in_features=110, out_features=1)\n",
        "    )"
      ]
    },
    {
      "cell_type": "code",
      "execution_count": 549,
      "metadata": {
        "id": "qbTTQzitEYZL"
      },
      "outputs": [
        {
          "name": "stdout",
          "output_type": "stream",
          "text": [
            "torch.Size([500, 110])\n",
            "torch.Size([500])\n"
          ]
        }
      ],
      "source": [
        "\n",
        "x = torch.FloatTensor(df_new.values)\n",
        "y = torch.FloatTensor(df['Eat'])#.reshape(-1,1)\n",
        "print(x.shape)\n",
        "print(y.shape)\n",
        "X_new_train, X_new_val = train_test_split(x, test_size = 0.3, random_state=69)\n",
        "y_new_train, y_new_val = train_test_split(y, test_size = 0.3, random_state=69) \n",
        "\n",
        "X_train_1 = scaler.fit_transform(X_new_train)\n",
        "X_val_1 = scaler.transform(X_new_val)"
      ]
    },
    {
      "cell_type": "code",
      "execution_count": 550,
      "metadata": {},
      "outputs": [],
      "source": [
        "optim_func = nn.MSELoss()\n",
        "optimizer = optim.SGD(model_new.parameters(), lr=0.01)"
      ]
    },
    {
      "cell_type": "code",
      "execution_count": 553,
      "metadata": {
        "colab": {
          "base_uri": "https://localhost:8080/"
        },
        "id": "u94Sntm2E7L1",
        "outputId": "a5d9913d-5468-4812-c004-2942b3c473b2"
      },
      "outputs": [
        {
          "name": "stdout",
          "output_type": "stream",
          "text": [
            "Значение MSE на валидационной выборке: 11.958\n"
          ]
        }
      ],
      "source": [
        "\n",
        "num_iter = 10000\n",
        "\n",
        "for i in range(num_iter):\n",
        "    y_pred_new = model_new(torch.FloatTensor(X_train_1))\n",
        "    # Шаг 2. \n",
        "    # Вычисление оптимизируемой функции (MSE) по предсказаниям\n",
        "    loss = optim_func(y_pred_new, y_new_train)\n",
        "    \n",
        "    # Шаг 3.\n",
        "    # Backward pass: вычисление градиентов оптимизируемой функции\n",
        "    # по всем параметрам модели\n",
        "    loss.backward(retain_graph=True)\n",
        "\n",
        "    # Шаг 4.\n",
        "    # Оптимизация: обновление параметров по формулам соответствующего\n",
        "    # метода оптимизации, используются вычисленные ранее градиенты\n",
        "    optimizer.step()\n",
        "\n",
        "    # Зануление градиентов\n",
        "    optimizer.zero_grad()\n",
        "\n",
        "print(f'Значение MSE на валидационной выборке: {optim_func(model_new(torch.FloatTensor(X_val_1)), y_new_val).item():.5}')"
      ]
    },
    {
      "cell_type": "code",
      "execution_count": 551,
      "metadata": {
        "colab": {
          "base_uri": "https://localhost:8080/"
        },
        "id": "f14nTbjyFY3a",
        "outputId": "12b632d3-4a3d-4235-89bb-5931faf2d9bf"
      },
      "outputs": [
        {
          "name": "stdout",
          "output_type": "stream",
          "text": [
            "R2: -10.77 \n",
            "MSE: 140.7100067138672 \n",
            "MAPE: 0.9900000095367432\n"
          ]
        }
      ],
      "source": [
        "with torch.no_grad():\n",
        "     y_pred_super = model_new(torch.FloatTensor(X_val_1)).numpy()\n",
        "     print(f'R2: {round(r2_score(y_new_val, y_pred_super), 2)} \\nMSE: {round(mean_squared_error(y_new_val, y_pred_super), 2)} \\nMAPE: {round(mean_absolute_percentage_error(y_new_val, y_pred_super), 2)}')"
      ]
    },
    {
      "cell_type": "markdown",
      "metadata": {
        "id": "B_SYdVr1IGR5"
      },
      "source": [
        "**Вопрос:** объясните полученный результат.\n",
        "\n",
        "Модель, основанная на градиентном спуске, предсказывает намного лучше, чем модель без, это видно по метрике MSE"
      ]
    },
    {
      "cell_type": "markdown",
      "metadata": {
        "id": "W_YpL1ipFYm1"
      },
      "source": [
        "Сравните все модели, поясняя полученные результаты и значения метрик.\n",
        "\n",
        "**Вывод:**"
      ]
    },
    {
      "cell_type": "markdown",
      "metadata": {},
      "source": [
        "Регуляризации позволяют найти параметры, при которых ошибки минимальны. Удалось найти такую альфа, что MAPE порядка 6 процентов. На сокращенном датафрейме получили два различных результата: намного сильнее выглядит нейронная сеть с градиентным спуском, ее точность выше как минимум в 10 раз."
      ]
    },
    {
      "cell_type": "markdown",
      "metadata": {
        "id": "yukG_GKL1_hS"
      },
      "source": [
        "---\n",
        "### Задача 2\n",
        "#### *Профиль физика*\n",
        "\n",
        "Скачайте [датасет](https://drive.google.com/file/d/1QqYK7Go96vR4l66MShlUuXxY0_FaBcYB/view?usp=sharing), описывающий распады Z-бозонов двух типов: `Zee`и `Zmumu`. Создайте и обучите нейросеть, разделяющую эти два класса.\n",
        "\n",
        "[Описание датасета](https://www.kaggle.com/datasets/omidbaghchehsaraei/identification-of-two-modes-of-z-boson?resource=download)\n"
      ]
    },
    {
      "cell_type": "code",
      "execution_count": null,
      "metadata": {
        "colab": {
          "base_uri": "https://localhost:8080/",
          "height": 206
        },
        "id": "ZODZ-xSva-Oc",
        "outputId": "de436221-0473-4cd1-be0c-69c70e84c532"
      },
      "outputs": [],
      "source": [
        "data = pd.read_csv('Z_boson.csv')\n",
        "data.head()"
      ]
    },
    {
      "cell_type": "markdown",
      "metadata": {
        "id": "4E3mrI6BNF4r"
      },
      "source": [
        "Удалите столбцы `Unnamed: 0`, `Run` и `Event`, так как это не физические величины. Удалите строки, где есть пропуски, если таковые имеются."
      ]
    },
    {
      "cell_type": "code",
      "execution_count": null,
      "metadata": {
        "colab": {
          "base_uri": "https://localhost:8080/"
        },
        "id": "xoCSmenbM5zU",
        "outputId": "6acd1b99-9634-4be4-8b73-48c9ec78fbe0"
      },
      "outputs": [],
      "source": []
    },
    {
      "cell_type": "markdown",
      "metadata": {
        "id": "QzhmUYMtSWnx"
      },
      "source": [
        "Также можно как-нибудь взглянуть на признаки. Возможно, не все они вносят вклад в разделение классов. Не забудьте преобразовать таргет (столбец `class`) к формату 0 и 1. Вам может пригодиться `sklearn.preprocessing.LabelBinarizer`.\n"
      ]
    },
    {
      "cell_type": "code",
      "execution_count": null,
      "metadata": {
        "colab": {
          "base_uri": "https://localhost:8080/",
          "height": 891
        },
        "id": "66R0_0cYPfah",
        "outputId": "00c0e1b0-125c-4d86-f0d4-2627d0460cb7"
      },
      "outputs": [],
      "source": [
        "plt.figure(figsize=(20, 10))\n",
        "sns.set_theme(font_scale=2.0)\n",
        "sns.pairplot(data, hue=\"class\", palette=\"deep\")"
      ]
    },
    {
      "cell_type": "markdown",
      "metadata": {},
      "source": [
        "Какие признаки вы бы использовали для разделения людей по классам? Выберите эти столбцы и создайте наборы train и test с помощью функции train_test_split, а также выделите набор данных для валидации при обучении."
      ]
    },
    {
      "cell_type": "code",
      "execution_count": 142,
      "metadata": {
        "id": "wgja_o782UCh"
      },
      "outputs": [],
      "source": [
        "# исходя из графиков, отберём признаки для обучения\n",
        "selected_features = [<...>]\n",
        "X = data[selected_features]"
      ]
    },
    {
      "cell_type": "code",
      "execution_count": 143,
      "metadata": {},
      "outputs": [],
      "source": [
        "# таргет преобразуем из строк \"Zee\", \"Zmumu\" к 0 и 1\n",
        "<...>\n",
        "\n",
        "X_train, X_test, y_train, y_test = train_test_split(X, y, train_size=0.7)\n",
        "X_val, X_test, y_val, y_test  = train_test_split(X_test, y_test, train_size=0.3)"
      ]
    },
    {
      "cell_type": "markdown",
      "metadata": {},
      "source": [
        "**Переходите к общей части.**"
      ]
    },
    {
      "cell_type": "markdown",
      "metadata": {
        "id": "uehpM9ZNRRKo"
      },
      "source": [
        "### Профиль биология\n",
        "\n",
        "Скачайте [датасет](https://miptstats.github.io/courses/ad_mipt.html), описывающий влияние курения и алкоголя на человека. Создайте и обучите нейросеть, разделяющую эти два класса.\n",
        "\n",
        "[Описание датасета](https://www.kaggle.com/datasets/sooyoungher/smoking-drinking-dataset)"
      ]
    },
    {
      "cell_type": "code",
      "execution_count": 151,
      "metadata": {
        "id": "yroWNuBZt37x"
      },
      "outputs": [],
      "source": [
        "df = pd.read_csv(\"smoking_driking_dataset_Ver01.csv\")"
      ]
    },
    {
      "cell_type": "code",
      "execution_count": null,
      "metadata": {
        "colab": {
          "base_uri": "https://localhost:8080/",
          "height": 349
        },
        "id": "-oKe27HiuM2R",
        "outputId": "064958d3-b64d-4eb2-b2da-90180d2244dd"
      },
      "outputs": [],
      "source": [
        "df.describe()"
      ]
    },
    {
      "cell_type": "code",
      "execution_count": null,
      "metadata": {
        "colab": {
          "base_uri": "https://localhost:8080/"
        },
        "id": "SYdgrbqsuSbT",
        "outputId": "2cce2366-9380-4273-90b7-b36f0b2f3585"
      },
      "outputs": [],
      "source": [
        "df.columns, df.shape"
      ]
    },
    {
      "cell_type": "code",
      "execution_count": 154,
      "metadata": {
        "id": "-1c1VgqDuXKN"
      },
      "outputs": [],
      "source": [
        "column_names = df.columns[1:-2]# нам не нужны гендер и таргеты сейчас"
      ]
    },
    {
      "cell_type": "code",
      "execution_count": null,
      "metadata": {
        "colab": {
          "base_uri": "https://localhost:8080/"
        },
        "id": "6cAFyKpTuqSg",
        "outputId": "7d7bfae4-05d6-4733-a5da-349b1f81125d"
      },
      "outputs": [],
      "source": [
        "column_names"
      ]
    },
    {
      "cell_type": "markdown",
      "metadata": {
        "id": "9f4jgeTtk59Q"
      },
      "source": [
        "Попробуем классифицировать людей с плохими привычками и без них, чтобы облегчить нам задачу. Для этого создадим дополнительный столбец в таблице, который будет содержать информацию о том, имеет ли человек вредные привычки или нет."
      ]
    },
    {
      "cell_type": "code",
      "execution_count": 156,
      "metadata": {
        "id": "nY9FBycck5UU"
      },
      "outputs": [],
      "source": [
        "def smoking_preprocessing(x):\n",
        "  if x == 3 or x == 2:\n",
        "    return 1\n",
        "  else:\n",
        "    return 0\n",
        "\n",
        "def drinking_preprocessing(x):\n",
        "  if x == 'Y':\n",
        "    return 1\n",
        "  else:\n",
        "    return 0"
      ]
    },
    {
      "cell_type": "code",
      "execution_count": 157,
      "metadata": {
        "id": "Rq1LLGtWl3ki"
      },
      "outputs": [],
      "source": [
        "df['SMK_stat_type_cd'] = df['SMK_stat_type_cd'].apply(func = smoking_preprocessing)\n",
        "df['DRK_YN'] = df['DRK_YN'].apply(func = drinking_preprocessing)"
      ]
    },
    {
      "cell_type": "code",
      "execution_count": 158,
      "metadata": {
        "id": "k7HT3JWEm597"
      },
      "outputs": [],
      "source": [
        "df['bad_habits'] = df['DRK_YN']+df['SMK_stat_type_cd']-df['DRK_YN']*df['SMK_stat_type_cd']"
      ]
    },
    {
      "cell_type": "markdown",
      "metadata": {
        "id": "G9-eDwLSnPbd"
      },
      "source": [
        "Теперь смотрим на разделение по привычкам"
      ]
    },
    {
      "cell_type": "code",
      "execution_count": null,
      "metadata": {
        "colab": {
          "base_uri": "https://localhost:8080/",
          "height": 868
        },
        "id": "Xt2lMxcVnPbf",
        "outputId": "6b9096dd-01bc-4ace-f2a3-ce378936f5ca"
      },
      "outputs": [],
      "source": [
        "graph = sns.PairGrid(df.iloc[:1000], hue='bad_habits', vars = column_names[:7])\n",
        "graph.map_upper(sns.scatterplot)\n",
        "graph.map_lower(sns.kdeplot)\n",
        "graph.map_diag(sns.kdeplot)\n",
        "graph.add_legend()"
      ]
    },
    {
      "cell_type": "code",
      "execution_count": null,
      "metadata": {
        "colab": {
          "base_uri": "https://localhost:8080/",
          "height": 873
        },
        "id": "8lbzL5H3nPbf",
        "outputId": "640905b4-d15b-40e7-f8bd-e00e78dbb60b"
      },
      "outputs": [],
      "source": [
        "graph = sns.PairGrid(df.iloc[:1000], hue='bad_habits', vars = column_names[7:15])\n",
        "graph.map_upper(sns.scatterplot)\n",
        "graph.map_lower(sns.kdeplot)\n",
        "graph.map_diag(sns.kdeplot)\n",
        "graph.add_legend()"
      ]
    },
    {
      "cell_type": "code",
      "execution_count": null,
      "metadata": {
        "colab": {
          "base_uri": "https://localhost:8080/",
          "height": 853
        },
        "id": "wJKDZTVYnPbf",
        "outputId": "ab236638-8068-4fca-eeba-8fd5b6a63a3b"
      },
      "outputs": [],
      "source": [
        "graph = sns.PairGrid(df.iloc[:1000], hue='bad_habits', vars = column_names[15:])\n",
        "graph.map_upper(sns.scatterplot)\n",
        "graph.map_lower(sns.kdeplot)\n",
        "graph.map_diag(sns.kdeplot)\n",
        "graph.add_legend()"
      ]
    },
    {
      "cell_type": "code",
      "execution_count": 159,
      "metadata": {
        "id": "ciXaf81rI0OA"
      },
      "outputs": [],
      "source": [
        "target_1 = df.pop('SMK_stat_type_cd')\n",
        "target_2 = df.pop('DRK_YN')\n",
        "target_3 = df.pop('bad_habits')"
      ]
    },
    {
      "cell_type": "markdown",
      "metadata": {
        "id": "gLKIv5opel5K"
      },
      "source": [
        "Какие признаки вы бы использовали для разделения людей по классам? Выберите эти столбцы и создайте наборы train и test с помощью функции train_test_split, а также выделите набор данных для валидации при обучении."
      ]
    },
    {
      "cell_type": "code",
      "execution_count": 160,
      "metadata": {
        "id": "yA_t_GwRekzM"
      },
      "outputs": [],
      "source": [
        "# исходя из графиков, отберём признаки для обучения (нас интересуют вредные привычки)\n",
        "selected_features = [<...>]\n",
        "X = data[selected_features]"
      ]
    },
    {
      "cell_type": "code",
      "execution_count": 161,
      "metadata": {
        "id": "bcUqqdZxcwN-"
      },
      "outputs": [],
      "source": [
        "# данных очень много, поэтому для экономии времени автор ноутбука отводит на обучение всего треть датасета\n",
        "X_train, X_test, y_train, y_test = train_test_split(X, target_3, train_size=0.3)\n",
        "X_val, X_test, y_val, y_test  = train_test_split(X_test, y_test, train_size=0.3)"
      ]
    },
    {
      "cell_type": "markdown",
      "metadata": {
        "id": "xuPQOf5HAUIA"
      },
      "source": [
        "## Общая часть"
      ]
    },
    {
      "cell_type": "markdown",
      "metadata": {},
      "source": [
        "Как вы помните, в задаче классификации предсказывается вероятность. На основании этой вероятности можно делать вывод о принадлежности объекта к тому или иному классу. Причём не всегда используется порог $P=0.5$. Например, если классы несбалансированы, это значение можно варьировать на интервале (0, 1). Предоставляем вам возможность самим выбрать этот порог и поэкспериментировать."
      ]
    },
    {
      "cell_type": "code",
      "execution_count": 162,
      "metadata": {
        "id": "dPrD9dlrEKLL"
      },
      "outputs": [],
      "source": [
        "class_lim_proba = <...> # критерий принадлежности к тому или иному классу"
      ]
    },
    {
      "cell_type": "markdown",
      "metadata": {
        "id": "dW6vXt5FHnW3"
      },
      "source": [
        "Стандартизируйте данные"
      ]
    },
    {
      "cell_type": "code",
      "execution_count": 163,
      "metadata": {
        "id": "gS-c8qg5-jqT"
      },
      "outputs": [],
      "source": []
    },
    {
      "cell_type": "markdown",
      "metadata": {
        "id": "ayu3JfBzsqC6"
      },
      "source": [
        "Напишем функцию для отрисовки кривых обучения. На одном графике расположим значение функции потерь на трейне и валидации, а на другом &mdash; значение метрики качества на ваш выбор, также для трейна и валидации."
      ]
    },
    {
      "cell_type": "code",
      "execution_count": 164,
      "metadata": {
        "id": "YJFrPQRAsjGz"
      },
      "outputs": [],
      "source": [
        "def plot_learning_curves(history):\n",
        "    '''\n",
        "    Функция для отображения лосса и метрики во время обучения.\n",
        "    '''\n",
        "    clear_output(wait=True)\n",
        "\n",
        "    fig = plt.figure(figsize=(20, 7))\n",
        "    fontsize = 15   # размер шрифта\n",
        "\n",
        "    plt.subplot(1,2,1)\n",
        "    plt.title('Лосс', fontsize=fontsize)\n",
        "    plt.plot(history['loss_train'], label='train')\n",
        "    plt.plot(history['loss_val'],   label='val')\n",
        "    plt.ylabel('лосс',  fontsize=fontsize)\n",
        "    plt.xlabel('эпоха', fontsize=fontsize)\n",
        "    plt.legend()\n",
        "\n",
        "    plt.subplot(1,2,2)\n",
        "    plt.title('Метрика', fontsize=fontsize)\n",
        "    plt.plot(history['metric_train'], label='train')\n",
        "    plt.plot(history['metric_val'],   label='val')\n",
        "    plt.ylabel('Значение метрики', fontsize=fontsize)\n",
        "    plt.xlabel('эпоха',    fontsize=fontsize)\n",
        "    plt.legend()\n",
        "    plt.show()"
      ]
    },
    {
      "cell_type": "markdown",
      "metadata": {},
      "source": [
        "Напишите функцию метрики, которую вы будете использовать, например accuracy."
      ]
    },
    {
      "cell_type": "code",
      "execution_count": null,
      "metadata": {},
      "outputs": [],
      "source": [
        "def metric(y_true, y_pred):\n",
        "  <...>\n",
        "  return metric"
      ]
    },
    {
      "cell_type": "markdown",
      "metadata": {
        "id": "-KRqsqFXrOj_"
      },
      "source": [
        "#### Создание модели.\n",
        "В семинаре вы у промежуточных слоёв задавали `in_features = out_features = 1`, а в данном случае вам надо будет создать нейросеть из нескольких слоёв, поставив только у последнего из них `out_features = 1`.\n",
        "\n",
        "Какой должна быть размерность входа первого слоя?"
      ]
    },
    {
      "cell_type": "code",
      "execution_count": null,
      "metadata": {
        "colab": {
          "base_uri": "https://localhost:8080/"
        },
        "id": "0TgKtRfVrLpb",
        "outputId": "a1a2f363-525d-4233-a38b-d225419e50d6"
      },
      "outputs": [],
      "source": [
        "model = <...>\n",
        "\n",
        "model"
      ]
    },
    {
      "cell_type": "markdown",
      "metadata": {
        "id": "EllEx8_atGPX"
      },
      "source": [
        "#### Обучение\n",
        "\n",
        "В качетсве функции потерь возьмите [бинарную кросс-энтропию](https://pytorch.org/docs/stable/generated/torch.nn.BCELoss.html), а шаг градиентного спуска установите равным 0.5. Можете взять и другие loss и `lr`, если хотите поэкспериментировать."
      ]
    },
    {
      "cell_type": "code",
      "execution_count": 148,
      "metadata": {
        "id": "OIka-Rs1uMHY"
      },
      "outputs": [],
      "source": [
        "optim_func = <...>\n",
        "optimizer = <...>"
      ]
    },
    {
      "cell_type": "code",
      "execution_count": null,
      "metadata": {
        "colab": {
          "base_uri": "https://localhost:8080/",
          "height": 385
        },
        "id": "7Xz9XaHl_7eK",
        "outputId": "16943c02-774d-4210-da66-a5e2150ed4d6"
      },
      "outputs": [],
      "source": [
        "batch_size = 2000 # этот\n",
        "num_iter = 200    # и этот параметры можете также поварьировать\n",
        "history = {\n",
        "    'loss_train': [],\n",
        "    'loss_val': [],\n",
        "    'metric_train': [],\n",
        "    'metric_val': [],\n",
        "}\n",
        "\n",
        "for i in range(num_iter):\n",
        "    \n",
        "    # Так как размер выборки слишком велик, то будем обучать лишь на части данных\n",
        "    indexes_train = np.random.choice(np.arange(len(X_train)), batch_size, replace=False)\n",
        "    local_X_train = X_train[indexes_train]\n",
        "    local_y_train = y_train[indexes_train]\n",
        "\n",
        "    indexes_val = np.random.choice(np.arange(len(X_val)), batch_size//10, replace=False)\n",
        "    local_X_val = <...>\n",
        "    local_y_val = <...>\n",
        "\n",
        "    # Forward pass: предсказание модели по данным X_train\n",
        "    y_pred_train = <...>\n",
        "    with torch.no_grad():\n",
        "        y_pred_val = <...>\n",
        "\n",
        "\n",
        "    # Вычисление оптимизируемой функции (MSE) по предсказаниям\n",
        "    loss_train = <...>\n",
        "    with torch.no_grad():\n",
        "        loss_val = <...>\n",
        "\n",
        "    # Backward pass: вычисление градиентов оптимизируемой функции\n",
        "    # по всем параметрам модели\n",
        "    <...>\n",
        "\n",
        "    # Оптимизация: обновление параметров по формулам соответствующего\n",
        "    # метода оптимизации, используются вычисленные ранее градиенты\n",
        "    <...>\n",
        "\n",
        "    # Зануление градиентов\n",
        "    <...>\n",
        "\n",
        "    # Считаем метрику на эпохе (здесь посчитана acuracy, можете реализовать любую другую за доп. баллы)\n",
        "    metric_train = np.sum((y_pred_train.detach().numpy() >= class_lim_proba).reshape(-1) == local_y_train) / len(local_y_train)\n",
        "    metric_val = np.sum((y_pred_val.detach().numpy() >= class_lim_proba).reshape(-1) == local_y_val) / len(local_y_val)\n",
        "\n",
        "    # Сохраняем результаты эпохи\n",
        "    history['loss_train'].append(loss_train.item())\n",
        "    history['loss_val'].append(loss_val)\n",
        "    history['metric_train'].append(metric_train)\n",
        "    history['metric_val'].append(metric_val)\n",
        "\n",
        "    # График Метрики + Лосса для трейна и валидации каждую итерацию\n",
        "    plot_learning_curves(history)"
      ]
    },
    {
      "cell_type": "markdown",
      "metadata": {
        "id": "DkW1-Qjd_-dN"
      },
      "source": [
        "Тестирование"
      ]
    },
    {
      "cell_type": "code",
      "execution_count": null,
      "metadata": {
        "colab": {
          "base_uri": "https://localhost:8080/"
        },
        "id": "TkZtkmbD4PHI",
        "outputId": "0bc0c23a-c963-4692-fc44-43a8e72e8e92"
      },
      "outputs": [],
      "source": [
        "with torch.no_grad():\n",
        "      y_pred_test = <...>\n",
        "      loss_test = <...>\n",
        "      metric_test = <считается по аналогии с тем, как на обучении>\n",
        "print(f\" Test Loss: {loss_test} \\n Test metric: {metric_test}\")"
      ]
    },
    {
      "cell_type": "markdown",
      "metadata": {
        "id": "AKaxR5ClAEzS"
      },
      "source": [
        "**Выводы:**"
      ]
    },
    {
      "cell_type": "markdown",
      "metadata": {
        "id": "pBtvk1ax2BBD"
      },
      "source": [
        "---\n",
        "## <b><font color=\"orange\">Сложная часть</font></b>\n",
        "### Задача 3"
      ]
    },
    {
      "cell_type": "markdown",
      "metadata": {
        "id": "LXJEXwzvEPQv"
      },
      "source": [
        "В этой задаче мы будем вручную реализовывать усложнение для линейной регрессии, которое вы рассматривали на семинаре. \n",
        "\n",
        "Запрещено использовать torch.nn (саму библиотеку torch использовать можно и нужно). Чтобы иметь перед глазами оставим здесь формулы:\n",
        "\n",
        "$$\\widehat{y}(x) = w_1u(x) + b_1,$$\n",
        "\n",
        "$$u(x) = \\sigma(w_0x + b_0),$$\n",
        "\n",
        "$$\\sigma(x) = \\text{ReLU}(x) = \\begin{equation*}\\begin{cases}x, \\; x \\ge 0, \\\\ 0, \\; \\text{иначе,} \\end{cases} \\end{equation*}$$\n",
        "\n",
        "$w_0, b_0 \\in \\mathbb{R}$ &mdash; обучаемые параметры первого слоя, $w_1, b_1 \\in \\mathbb{R}$ &mdash; обучаемые параметры второго слоя, $\\sigma(x)$ &mdash; функция активации, в данном случае мы выбрали `ReLU`."
      ]
    },
    {
      "cell_type": "markdown",
      "metadata": {},
      "source": [
        "Реализуйте функцию активации:"
      ]
    },
    {
      "cell_type": "code",
      "execution_count": null,
      "metadata": {},
      "outputs": [],
      "source": [
        "def act_func(x):\n",
        "    return <...>"
      ]
    },
    {
      "cell_type": "markdown",
      "metadata": {},
      "source": [
        "Задайте оптимизируемую функцию / функцию ошибки / лосс — [MSE](https://miptstats.github.io/courses/ad_fivt/linreg_sklearn.html#3.-Тестирование-и-оценка-качества):"
      ]
    },
    {
      "cell_type": "markdown",
      "metadata": {},
      "source": [
        "$$\n",
        "    MSE(\\widehat{y}, y) = \\frac{1}{n}\\sum_{i=1}^n\\left(\\widehat y_i - y_i\\right)^2\n",
        "$$"
      ]
    },
    {
      "cell_type": "code",
      "execution_count": null,
      "metadata": {},
      "outputs": [],
      "source": [
        "def optim_func(y_pred, y_true):\n",
        "    return <...>"
      ]
    },
    {
      "cell_type": "markdown",
      "metadata": {
        "id": "2OvXcixqGrlF"
      },
      "source": [
        "Обучите вашу модель на датасете с семинарского задания. Сравните полученный результат с результатом семинара."
      ]
    },
    {
      "cell_type": "code",
      "execution_count": null,
      "metadata": {
        "id": "ApGCfCxbI45M"
      },
      "outputs": [],
      "source": [
        "# Инициализация параметров\n",
        "w0 = <...>\n",
        "b0 = <...>\n",
        "w1 = <...>\n",
        "b1 = <...>\n",
        "\n",
        "# Количество итераций\n",
        "num_iter = 1000\n",
        "\n",
        "# Скорость обучения для параметров\n",
        "lr_w = 0.01\n",
        "lr_b = 0.05\n",
        "\n",
        "for i in range(num_iter):\n",
        "\n",
        "    # Forward pass: предсказание модели\n",
        "    y_pred = <...>\n",
        "\n",
        "    # Вычисление оптимизируемой функции (MSE)\n",
        "    loss = <...>\n",
        "    # Bakcward pass: вычисление градиентов\n",
        "    loss.backward()\n",
        "\n",
        "    # Оптимизация: обновление параметров\n",
        "    <...>\n",
        "\n",
        "    # Зануление градиентов\n",
        "    <...>"
      ]
    },
    {
      "cell_type": "markdown",
      "metadata": {
        "id": "_FlR8uG2ISKG"
      },
      "source": [
        "**Вывод:**"
      ]
    },
    {
      "cell_type": "markdown",
      "metadata": {
        "id": "A2YpEPPyz1nx"
      },
      "source": [
        "---\n",
        "### Задача 4\n",
        "\n",
        "Рассмотрим двуслойную нейронную сеть, которая принимает на вход $x\\in\\mathbb{R}$ и возвращает $y\\in\\mathbb{R}$. Выход первого слоя возвращает $u \\in\\mathbb{R}^2$. После первого слоя используется функция активации $\\sigma(x) = \\frac{1}{1 + \\exp(-x)}$, после второго слоя функция активации не используется (или используется тождественная). Тем самым нашу нейронку можно представить в виде\n",
        "\n",
        "$$\\widehat{y}(x) = \\sum_{h=1}^2 w_{2h}u_h(x) + b_2,$$\n",
        "\n",
        "$$u_h(x) = \\sigma(w_{1h}x + b_{1h}),$$\n",
        "\n",
        "$$\\text{где} \\; h \\in \\{1, 2\\}.$$\n",
        "\n",
        "\n",
        "\n"
      ]
    },
    {
      "cell_type": "markdown",
      "metadata": {
        "id": "s-W7vzhJ0e6o"
      },
      "source": [
        "**1.** Нарисуйте схематически данную нейронную сеть. Сколько у нее обучаемых параметров?\n",
        "\n",
        "..."
      ]
    },
    {
      "cell_type": "markdown",
      "metadata": {
        "id": "Q8m6kFek0bb0"
      },
      "source": [
        "**2.** Пусть нам дана обучающая выборка $(X_1, Y_1), ..., (X_n, Y_n)$, где $X_i \\in \\mathbb{R}$ и $Y_i \\in \\mathbb{R}$. Нейронная сеть обучается по этой выборке, минимизируя заданную функцию $L$ &mdash; функцию ошибки. Положим, что $L$ &mdash; это MSE:\n",
        "$$\\text{MSE} = L(X, Y) = \\frac{1}{n}\\sum_{i=1}^n \\big(Y_i - \\widehat{y}(X_i)\\big)^2.$$\n",
        "\n",
        "Наша задача &mdash; найти оптимальные параметры нашей модели для минимизации $L(X, Y)$ на заданном наборе данных. Мы будем решать эту задачу с помощью градиентного спуска. Для этого нам понадобится выписать производные по всем параметрам сети. Конечно, в данном случае довольно просто выписать все производные напрямую. Однако мы воспользуемся следующей хитростью: мы будем считать производные поэтапно, причем начнем с конца вычислительной цепочки и, используя формулу производной сложной функции, последовательно посчитаем все необходимые производные. Этот процесс называется методом **обратного распространения ошибки (backpropagation)**.\n"
      ]
    },
    {
      "cell_type": "markdown",
      "metadata": {
        "id": "8Qh4_3N60XuA"
      },
      "source": [
        "**2.1.** Начнем с производной MSE по выходам сети:\n",
        "$$\\frac{\\partial\\:\\text{MSE}}{\\partial \\widehat{y}(X_i)} = \\; ...$$"
      ]
    },
    {
      "cell_type": "markdown",
      "metadata": {
        "id": "9pVY18ws0R0r"
      },
      "source": [
        "**2.2** Возьмем производные выходов сети по параметрам последнего слоя\n",
        "\n",
        "$$\\frac{\\partial \\widehat{y}(X_i)}{\\partial w_{2h}} = \\; ...$$\n",
        "\n",
        "$$\\frac{\\partial \\widehat{y}(X_i)}{\\partial b_2} = \\; ...$$\n",
        "\n",
        "Также выпишем производные выходов сети по входам последнего слоя:\n",
        "\n",
        "$$\\frac{\\partial \\widehat{y}(X_i)}{\\partial u_h(X_i)} = \\; ...$$\n",
        "\n",
        "Теперь выпишем производные MSE по параметрам и входам последнего слоя. Для этого вспомните правило производной сложной функции из математического анализа. Обратите внимание на то, что нам не нужно прописывать все производные до конца, достаточно заполнить пропуски в записи ниже:\n",
        "\n",
        "$$\\frac{\\partial\\:\\text{MSE}}{\\partial w_{2h}} = \\sum_{i=1}^n \\frac{\\partial\\:\\text{MSE}}{\\partial ...} \\frac{\\partial ...}{\\partial w_{2h}}$$\n",
        "\n",
        "$$\\frac{\\partial\\:\\text{MSE}}{\\partial b_2} = \\sum_{i=1}^n \\frac{\\partial\\:\\text{MSE}}{\\partial ...} \\frac{\\partial ...}{\\partial b_2}$$\n",
        "\n",
        "$$\\frac{\\partial\\:\\text{MSE}}{\\partial u_h} = \\sum_{i=1}^n \\frac{\\partial\\:\\text{MSE}}{\\partial ...} \\frac{\\partial ...}{\\partial u_h}$$"
      ]
    },
    {
      "cell_type": "markdown",
      "metadata": {
        "id": "CUu7vmpZ0No9"
      },
      "source": [
        "**2.3.** Теперь будем разбираться с производными по параметрам первого слоя.\n",
        "\n",
        "Для начала нам пригодится производная функции активации, запишите ее так, чтобы ответе осталась функция от $\\sigma(x)$:\n",
        "\n",
        "$$\\frac{\\partial\\:\\sigma(x)}{\\partial x} = \\; ...$$\n",
        "\n",
        "Теперь возьмем производные выходов первого слоя по его параметрам:\n",
        "\n",
        "$$\\frac{\\partial u_h(X_i)}{\\partial w_{1h}} = \\; ...$$\n",
        "\n",
        "$$\\frac{\\partial u_h(X_i)}{\\partial b_{1h}} = \\; ...$$\n",
        "\n",
        "Наконец, выпишем производные MSE по параметрам первого слоя. Так же как и раньше достаточно заполнить пропуски в записи ниже:\n",
        "\n",
        "$$\\frac{\\partial\\:\\text{MSE}}{\\partial w_{1h}} = \\; \\sum_{i=1}^n \\frac{\\partial\\:\\text{MSE}}{\\partial ...} \\frac{\\partial ...}{\\partial w_{1h}}$$\n",
        "\n",
        "$$\\frac{\\partial\\:\\text{MSE}}{\\partial b_{1h}} = \\; \\sum_{i=1}^n \\frac{\\partial\\:\\text{MSE}}{\\partial ...} \\frac{\\partial ...}{\\partial b_{1h}}$$"
      ]
    },
    {
      "cell_type": "markdown",
      "metadata": {
        "id": "aYH-3D7bz_KN"
      },
      "source": [
        "**3.** Пусть обучающая выборка очень большая. Что нужно делать в таком случае? Запишите, как нужно поменять правило обновления параметров.\n",
        "\n",
        "..."
      ]
    },
    {
      "cell_type": "markdown",
      "metadata": {
        "id": "lUkTCQNFz3-q"
      },
      "source": [
        "**Вывод:**\n",
        "\n",
        "..."
      ]
    }
  ],
  "metadata": {
    "colab": {
      "collapsed_sections": [
        "pBtvk1ax2BBD",
        "A2YpEPPyz1nx"
      ],
      "provenance": []
    },
    "kernelspec": {
      "display_name": "Python 3",
      "name": "python3"
    },
    "language_info": {
      "codemirror_mode": {
        "name": "ipython",
        "version": 3
      },
      "file_extension": ".py",
      "mimetype": "text/x-python",
      "name": "python",
      "nbconvert_exporter": "python",
      "pygments_lexer": "ipython3",
      "version": "3.10.11"
    }
  },
  "nbformat": 4,
  "nbformat_minor": 0
}
