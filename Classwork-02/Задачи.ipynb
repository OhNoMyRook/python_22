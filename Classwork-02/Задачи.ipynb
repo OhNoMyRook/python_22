{
 "cells": [
  {
   "cell_type": "markdown",
   "metadata": {},
   "source": [
    "## 1"
   ]
  },
  {
   "cell_type": "code",
   "execution_count": 1,
   "metadata": {},
   "outputs": [
    {
     "name": "stdout",
     "output_type": "stream",
     "text": [
      "0 1 2 3 4\n",
      "5 6 7 8 9\n",
      "10 11 12 13 14\n",
      "15 16 17 18 19\n",
      "20 21 22 23 24\n",
      "25 26 27 28 29\n"
     ]
    }
   ],
   "source": [
    "m, n = 5, 6\n",
    "a = [[ i*5+j for j in range(m)] for i in range(n)]\n",
    "for x in a:\n",
    "    print(*x)"
   ]
  },
  {
   "cell_type": "markdown",
   "metadata": {},
   "source": [
    "## 2"
   ]
  },
  {
   "cell_type": "code",
   "execution_count": 2,
   "metadata": {},
   "outputs": [
    {
     "name": "stdout",
     "output_type": "stream",
     "text": [
      "0 1 1 1 1\n",
      "2 0 1 1 1\n",
      "2 2 0 1 1\n",
      "2 2 2 0 1\n",
      "2 2 2 2 0\n",
      "2 2 2 2 2\n"
     ]
    }
   ],
   "source": [
    "m, n = 5, 6\n",
    "a = [[0 if i == j else 1 if i>j else 2 for i in range(m)] for j in range(n)]\n",
    "for x in a:\n",
    "    print(*x)"
   ]
  },
  {
   "cell_type": "markdown",
   "metadata": {},
   "source": [
    "## 3"
   ]
  },
  {
   "cell_type": "code",
   "execution_count": 3,
   "metadata": {},
   "outputs": [
    {
     "name": "stdout",
     "output_type": "stream",
     "text": [
      "0 1 2 3 4\n",
      "1 1 2 3 4\n",
      "2 2 2 3 4\n",
      "3 3 3 3 4\n",
      "4 4 4 4 4\n"
     ]
    }
   ],
   "source": [
    "n = 5\n",
    "a = [[i if i>=j else j for i in range(n)] for j in range(n)]\n",
    "for x in a:\n",
    "    print(*x)"
   ]
  },
  {
   "cell_type": "markdown",
   "metadata": {},
   "source": [
    "## 4"
   ]
  },
  {
   "cell_type": "code",
   "execution_count": 13,
   "metadata": {},
   "outputs": [
    {
     "name": "stdout",
     "output_type": "stream",
     "text": [
      "4888 94\n",
      "246 764\n",
      "\n",
      "123 456\n",
      "\n"
     ]
    }
   ],
   "source": [
    "with open(\"2.txt\", \"r\", encoding=\"utf-8\") as f:\n",
    "    f = f.readlines()\n",
    "    for line in f[::-1]:\n",
    "         print(line)"
   ]
  },
  {
   "cell_type": "markdown",
   "metadata": {},
   "source": [
    "## 5"
   ]
  },
  {
   "cell_type": "code",
   "execution_count": 12,
   "metadata": {},
   "outputs": [
    {
     "name": "stdout",
     "output_type": "stream",
     "text": [
      "49 8884\n",
      "467 642\n",
      "654 321\n"
     ]
    }
   ],
   "source": [
    "with open('2.txt', 'r') as f:\n",
    "    f = f.read()\n",
    "    print(f[::-1])"
   ]
  }
 ],
 "metadata": {
  "kernelspec": {
   "display_name": "Python 3.10.7 64-bit (microsoft store)",
   "language": "python",
   "name": "python3"
  },
  "language_info": {
   "codemirror_mode": {
    "name": "ipython",
    "version": 3
   },
   "file_extension": ".py",
   "mimetype": "text/x-python",
   "name": "python",
   "nbconvert_exporter": "python",
   "pygments_lexer": "ipython3",
   "version": "3.10.7"
  },
  "orig_nbformat": 4,
  "vscode": {
   "interpreter": {
    "hash": "8e933c098c4d0974450d556e61b785f5a5c9bbe17c2fe0791bdad886ac4aeaf8"
   }
  }
 },
 "nbformat": 4,
 "nbformat_minor": 2
}
